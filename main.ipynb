{
 "cells": [
  {
   "cell_type": "markdown",
   "metadata": {},
   "source": [
    "# Task 1"
   ]
  },
  {
   "cell_type": "code",
   "execution_count": 1,
   "metadata": {},
   "outputs": [],
   "source": [
    "from functools import wraps\n",
    "from functools import lru_cache # possible alternative to caching_fibonacci\n",
    "\n",
    "def caching_fibonacci(func: callable) -> callable:\n",
    "    cache = {}\n",
    "    @wraps(func)\n",
    "    def wrapper(n: int) -> int:\n",
    "        return cache.get(n) or cache.setdefault(n, func(n))\n",
    "    return wrapper\n",
    "\n",
    "@caching_fibonacci\n",
    "def fibonacci(n: int) -> int:\n",
    "    \"\"\"\n",
    "    Calculate the Fibonacci number.\n",
    "\n",
    "    Parameters:\n",
    "    - n (int): The index of the Fibonacci number to calculate.\n",
    "\n",
    "    Returns:\n",
    "    - int: The Fibonacci number.\n",
    "    \"\"\"\n",
    "    if isinstance(n, int):\n",
    "        if n < 2:\n",
    "            return max(n, 0)\n",
    "        return fibonacci(n - 1) + fibonacci(n - 2)"
   ]
  },
  {
   "cell_type": "code",
   "execution_count": 2,
   "metadata": {},
   "outputs": [
    {
     "name": "stdout",
     "output_type": "stream",
     "text": [
      "Help on function fibonacci in module __main__:\n",
      "\n",
      "fibonacci(n: int) -> int\n",
      "    Calculate the Fibonacci number.\n",
      "    \n",
      "    Parameters:\n",
      "    - n (int): The index of the Fibonacci number to calculate.\n",
      "    \n",
      "    Returns:\n",
      "    - int: The Fibonacci number.\n",
      "\n"
     ]
    }
   ],
   "source": [
    "help(fibonacci)"
   ]
  },
  {
   "cell_type": "code",
   "execution_count": 3,
   "metadata": {},
   "outputs": [
    {
     "name": "stdout",
     "output_type": "stream",
     "text": [
      "for i=-1  ->     0\n",
      "for i=0   ->     0\n",
      "for i=1   ->     1\n",
      "for i=2   ->     1\n",
      "for i=3   ->     2\n",
      "for i=4   ->     3\n",
      "for i=5   ->     5\n",
      "for i=6   ->     8\n",
      "for i=7   ->    13\n",
      "for i=8   ->    21\n",
      "for i=9   ->    34\n",
      "for i=10  ->    55\n"
     ]
    }
   ],
   "source": [
    "for i in range(-1, 11):\n",
    "    print(f\"for {i=:<3} -> {fibonacci(i):>5}\")"
   ]
  },
  {
   "cell_type": "markdown",
   "metadata": {},
   "source": [
    "To test that the caching is working it is possible to run the following code"
   ]
  },
  {
   "cell_type": "code",
   "execution_count": 4,
   "metadata": {},
   "outputs": [
    {
     "name": "stdout",
     "output_type": "stream",
     "text": [
      "first_call: 0.001189 seconds\n",
      "second_call: 0.000001 seconds\n"
     ]
    }
   ],
   "source": [
    "import timeit\n",
    "\n",
    "test_number = 1000\n",
    "\n",
    "first_call = timeit.timeit(lambda: fibonacci(test_number), number=1)\n",
    "print(f\"first_call: {first_call:.6f} seconds\")\n",
    "\n",
    "second_call = timeit.timeit(lambda: fibonacci(test_number), number=1)\n",
    "print(f\"second_call: {second_call:.6f} seconds\")"
   ]
  },
  {
   "cell_type": "markdown",
   "metadata": {},
   "source": [
    "# Task 2"
   ]
  },
  {
   "cell_type": "code",
   "execution_count": 5,
   "metadata": {},
   "outputs": [],
   "source": [
    "from typing import Generator\n",
    "\n",
    "\n",
    "def generator_numbers(text: str) -> Generator[float, None, None]:\n",
    "    \"\"\"\n",
    "    Extract numbers from the text.\n",
    "\n",
    "    Parameters:\n",
    "    - text (str): The text to extract numbers from.\n",
    "\n",
    "    Yields:\n",
    "    - float: The extracted number.\n",
    "    \"\"\"\n",
    "    if isinstance(text, str) and text:\n",
    "        for word in text.split():\n",
    "            try:\n",
    "                yield float(word)\n",
    "            except ValueError:\n",
    "                pass\n",
    "\n",
    "\n",
    "def sum_profit(text: str, func: callable = generator_numbers) -> float:\n",
    "    \"\"\"\n",
    "    Calculate the sum of the profit.\n",
    "\n",
    "    Parameters:\n",
    "    - text (str): The text to extract numbers from.\n",
    "    - func (callable): The function to extract numbers from the text.\n",
    "\n",
    "    Returns:\n",
    "    - float: The sum of the profit.\n",
    "    \"\"\"\n",
    "    return sum(profit for profit in func(text)) or 0"
   ]
  },
  {
   "cell_type": "code",
   "execution_count": 14,
   "metadata": {},
   "outputs": [
    {
     "name": "stdout",
     "output_type": "stream",
     "text": [
      "for text1, -> 1351.46\n",
      "for text2, -> -94.0\n",
      "for text3, -> 0\n",
      "for text4, -> 0\n",
      "for text5, -> 0\n"
     ]
    }
   ],
   "source": [
    "text1 = \"Загальний дохід працівника складається з декількох частин: 1000.01 як основний дохід,\\\n",
    "    доповнений додатковими надходженнями 27.45 і 324.00 доларів.\"\n",
    "text2 = \"test -100 , 2 , 4\"\n",
    "text3 = \"test test test\"\n",
    "text4 = \"\"\n",
    "text5 = 1234\n",
    "\n",
    "for i, text in enumerate([text1, text2, text3, text4, text5], 1):\n",
    "    result = sum_profit(text)\n",
    "    print(f\"for text{i}, -> {result}\")"
   ]
  },
  {
   "cell_type": "code",
   "execution_count": null,
   "metadata": {},
   "outputs": [],
   "source": []
  }
 ],
 "metadata": {
  "kernelspec": {
   "display_name": "Python 3",
   "language": "python",
   "name": "python3"
  },
  "language_info": {
   "codemirror_mode": {
    "name": "ipython",
    "version": 3
   },
   "file_extension": ".py",
   "mimetype": "text/x-python",
   "name": "python",
   "nbconvert_exporter": "python",
   "pygments_lexer": "ipython3",
   "version": "3.11.3"
  }
 },
 "nbformat": 4,
 "nbformat_minor": 2
}
