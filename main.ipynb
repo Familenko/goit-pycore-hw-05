{
 "cells": [
  {
   "cell_type": "markdown",
   "metadata": {},
   "source": [
    "# Task 1"
   ]
  },
  {
   "cell_type": "code",
   "execution_count": 1,
   "metadata": {},
   "outputs": [],
   "source": [
    "from code_store.task_1 import fibonacci"
   ]
  },
  {
   "cell_type": "markdown",
   "metadata": {},
   "source": [
    "doc string is present"
   ]
  },
  {
   "cell_type": "code",
   "execution_count": 2,
   "metadata": {},
   "outputs": [
    {
     "name": "stdout",
     "output_type": "stream",
     "text": [
      "Help on function fibonacci in module code_store.task_1:\n",
      "\n",
      "fibonacci(n: int) -> int\n",
      "    Calculate the Fibonacci number.\n",
      "\n",
      "    Parameters:\n",
      "    - n (int): The index of the Fibonacci number to calculate.\n",
      "\n",
      "    Returns:\n",
      "    - int: The Fibonacci number.\n",
      "\n"
     ]
    }
   ],
   "source": [
    "help(fibonacci)"
   ]
  },
  {
   "cell_type": "markdown",
   "metadata": {},
   "source": [
    "check for error handling"
   ]
  },
  {
   "cell_type": "code",
   "execution_count": 3,
   "metadata": {},
   "outputs": [
    {
     "name": "stdout",
     "output_type": "stream",
     "text": [
      "for i=-1  ->     0\n",
      "for i=0   ->     0\n",
      "for i=1   ->     1\n",
      "for i=2   ->     1\n",
      "for i=3   ->     2\n",
      "for i=4   ->     3\n",
      "for i=5   ->     5\n",
      "for i=6   ->     8\n",
      "for i=7   ->    13\n",
      "for i=8   ->    21\n",
      "for i=9   ->    34\n",
      "for i=10  ->    55\n"
     ]
    }
   ],
   "source": [
    "for i in range(-1, 11):\n",
    "    print(f\"for {i=:<3} -> {fibonacci(i):>5}\")"
   ]
  },
  {
   "cell_type": "code",
   "execution_count": 4,
   "metadata": {},
   "outputs": [],
   "source": [
    "fibonacci('10')"
   ]
  },
  {
   "cell_type": "markdown",
   "metadata": {},
   "source": [
    "To test that the caching is working it is possible to run the following code"
   ]
  },
  {
   "cell_type": "code",
   "execution_count": 5,
   "metadata": {},
   "outputs": [
    {
     "name": "stdout",
     "output_type": "stream",
     "text": [
      "first_call: 0.000452 seconds\n",
      "second_call: 0.000001 seconds\n"
     ]
    }
   ],
   "source": [
    "import timeit\n",
    "\n",
    "test_number = 1000\n",
    "\n",
    "first_call = timeit.timeit(lambda: fibonacci(test_number), number=1)\n",
    "print(f\"first_call: {first_call:.6f} seconds\")\n",
    "\n",
    "second_call = timeit.timeit(lambda: fibonacci(test_number), number=1)\n",
    "print(f\"second_call: {second_call:.6f} seconds\")"
   ]
  },
  {
   "cell_type": "markdown",
   "metadata": {},
   "source": [
    "# Task 2"
   ]
  },
  {
   "cell_type": "code",
   "execution_count": 6,
   "metadata": {},
   "outputs": [],
   "source": [
    "from code_store.task_2 import sum_profit"
   ]
  },
  {
   "cell_type": "code",
   "execution_count": 7,
   "metadata": {},
   "outputs": [
    {
     "name": "stdout",
     "output_type": "stream",
     "text": [
      "for text1, -> 1351.46\n",
      "for text2, -> -94.0\n",
      "for text3, -> 0\n",
      "for text4, -> 0\n",
      "for text5, -> 0\n"
     ]
    }
   ],
   "source": [
    "text1 = \"Загальний дохід працівника складається з декількох частин: 1000.01 як основний дохід,\\\n",
    "    доповнений додатковими надходженнями 27.45 і 324.00 доларів.\"\n",
    "text2 = \"test -100 , 2 , 4\"\n",
    "text3 = \"test test test\"\n",
    "text4 = \"\"\n",
    "text5 = 1234\n",
    "\n",
    "for i, text in enumerate([text1, text2, text3, text4, text5], 1):\n",
    "    result = sum_profit(text)\n",
    "    print(f\"for text{i}, -> {result}\")"
   ]
  },
  {
   "cell_type": "code",
   "execution_count": 8,
   "metadata": {},
   "outputs": [],
   "source": [
    "from code_store.task_4 import main_contact_bot"
   ]
  },
  {
   "cell_type": "code",
   "execution_count": 9,
   "metadata": {},
   "outputs": [
    {
     "name": "stdout",
     "output_type": "stream",
     "text": [
      "Welcome to the assistant bot!\n",
      "Invalid command. Try again.\n",
      "Invalid command. Try again.\n",
      "The name or phone number is missing.\n",
      "The name or phone number is missing.\n",
      "Contact added.\n",
      "Contact added.\n",
      "Karen: +380994455345\n",
      "Jime: +380501234356\n",
      "The name or phone number is missing.\n",
      "Invalid input. Please check your command format.\n",
      "Invalid input. Please check your command format.\n",
      "Karen's phone number is +380994455345\n",
      "Karen: +380994455345\n",
      "Jime: +380501234356\n",
      "Good bye!\n"
     ]
    }
   ],
   "source": [
    "main_contact_bot()"
   ]
  },
  {
   "cell_type": "code",
   "execution_count": null,
   "metadata": {},
   "outputs": [],
   "source": []
  }
 ],
 "metadata": {
  "kernelspec": {
   "display_name": "Python 3",
   "language": "python",
   "name": "python3"
  },
  "language_info": {
   "codemirror_mode": {
    "name": "ipython",
    "version": 3
   },
   "file_extension": ".py",
   "mimetype": "text/x-python",
   "name": "python",
   "nbconvert_exporter": "python",
   "pygments_lexer": "ipython3",
   "version": "3.12.4"
  }
 },
 "nbformat": 4,
 "nbformat_minor": 2
}
